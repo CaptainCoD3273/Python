{
 "cells": [
  {
   "attachments": {},
   "cell_type": "markdown",
   "metadata": {},
   "source": [
    "Chal1 - Vars"
   ]
  },
  {
   "cell_type": "code",
   "execution_count": null,
   "metadata": {},
   "outputs": [],
   "source": [
    "hello = \"hello\"\n",
    "is_python_awesome = True\n",
    "days_in_python = 6\n",
    "pie_size = 3.14"
   ]
  },
  {
   "attachments": {},
   "cell_type": "markdown",
   "metadata": {},
   "source": [
    "Chal2 - Typecasting"
   ]
  },
  {
   "cell_type": "code",
   "execution_count": null,
   "metadata": {},
   "outputs": [],
   "source": [
    "int_input = int(\"345\")\n",
    "pi_4 = float(\"3.1415\")\n",
    "hours_str = str(40)\n",
    "hourly_rate = float(15)"
   ]
  },
  {
   "attachments": {},
   "cell_type": "markdown",
   "metadata": {},
   "source": [
    "Chal3 - Math Ops"
   ]
  },
  {
   "cell_type": "code",
   "execution_count": null,
   "metadata": {},
   "outputs": [],
   "source": [
    "x = int(16)\n",
    "y = int(3)\n",
    "xysum = int(x + y)\n",
    "xydiff = int(x - y)\n",
    "xyprod = int(x * y)\n",
    "xyquo = float(x / y)\n",
    "xyintquo = int(x / y)\n",
    "xymod = int(x % y)"
   ]
  },
  {
   "attachments": {},
   "cell_type": "markdown",
   "metadata": {},
   "source": [
    "Chal4 - Format"
   ]
  },
  {
   "cell_type": "code",
   "execution_count": null,
   "metadata": {},
   "outputs": [],
   "source": [
    "name = \"Jerry\"\n",
    "greeting = \"Sir\"\n",
    "time = \"noon\"\n",
    "output = \"Hello {}! {}, will you be arriving by {}?\".format(name,greeting,time)"
   ]
  },
  {
   "attachments": {},
   "cell_type": "markdown",
   "metadata": {},
   "source": [
    "Chal5 - .join"
   ]
  },
  {
   "cell_type": "code",
   "execution_count": null,
   "metadata": {},
   "outputs": [],
   "source": [
    "sentence = \"good for all\"\n",
    "sent_list = list(sentence)\n",
    "sent_list[0] = ('f')\n",
    "sent_list[-1] = ('?')\n",
    "output = \".\".join(sent_list)"
   ]
  },
  {
   "attachments": {},
   "cell_type": "markdown",
   "metadata": {},
   "source": [
    "Chal6 - List Conversion"
   ]
  },
  {
   "cell_type": "code",
   "execution_count": null,
   "metadata": {},
   "outputs": [],
   "source": [
    "lst = email.replace(\"@\",\".\").split(\".\")"
   ]
  },
  {
   "attachments": {},
   "cell_type": "markdown",
   "metadata": {},
   "source": [
    "Chal7 - Character Replace"
   ]
  },
  {
   "cell_type": "code",
   "execution_count": null,
   "metadata": {},
   "outputs": [],
   "source": [
    "num = input(\" \")\n",
    "space = num.replace(\" \",\"+\")\n",
    "print(space)"
   ]
  },
  {
   "attachments": {},
   "cell_type": "markdown",
   "metadata": {},
   "source": [
    "Chal8 - If/Then"
   ]
  },
  {
   "cell_type": "code",
   "execution_count": null,
   "metadata": {},
   "outputs": [],
   "source": [
    "use = int(input())\n",
    "\n",
    "if use < 0 and use % 2 == 0:\n",
    "    print(\"Negative Even\")\n",
    "elif use < 0 and use % 2 == 1:\n",
    "    print(\"Negative Odd\")\n",
    "elif use == 0:\n",
    "    print(\"Zero\")\n",
    "elif use > 0 and use % 2 == 0:\n",
    "    print(\"Positive Even\")\n",
    "elif use > 0 and use % 2 == 1:\n",
    "    print(\"Positive Odd\")\n",
    "else:\n",
    "    print(\"wrong\")"
   ]
  },
  {
   "attachments": {},
   "cell_type": "markdown",
   "metadata": {},
   "source": [
    "Chal9 - Divisible?"
   ]
  },
  {
   "cell_type": "code",
   "execution_count": null,
   "metadata": {},
   "outputs": [],
   "source": [
    "num = int(input())\n",
    "\n",
    "if num % 3 != 0 and num % 5 != 0:\n",
    "    print(num)\n",
    "elif num % 3 == 0 and num % 5 == 0:\n",
    "    print(\"fizzbuzz\")\n",
    "elif num % 3 == 0:\n",
    "    print(\"fizz\")\n",
    "elif num % 5 == 0:\n",
    "    print(\"buzz\")"
   ]
  },
  {
   "attachments": {},
   "cell_type": "markdown",
   "metadata": {},
   "source": [
    "Chal10 - Math Function"
   ]
  },
  {
   "cell_type": "code",
   "execution_count": null,
   "metadata": {},
   "outputs": [],
   "source": [
    "def domath(a,b,c):\n",
    "    return (a + b) * c"
   ]
  },
  {
   "attachments": {},
   "cell_type": "markdown",
   "metadata": {},
   "source": [
    "Chal11 - Input Reverse"
   ]
  },
  {
   "cell_type": "code",
   "execution_count": null,
   "metadata": {},
   "outputs": [],
   "source": [
    "def reverseit():\n",
    "    list = []\n",
    "    while True:\n",
    "        use = input()\n",
    "        if use == \"\":\n",
    "            return list\n",
    "        list.append(use[::-1])\n",
    "    print(reverseit())\n",
    "    pass"
   ]
  },
  {
   "attachments": {},
   "cell_type": "markdown",
   "metadata": {},
   "source": [
    "Chal12 - Num Guess Func"
   ]
  },
  {
   "cell_type": "code",
   "execution_count": null,
   "metadata": {},
   "outputs": [],
   "source": [
    "def guess_number(n):\n",
    "    while True:\n",
    "        use = int(input())\n",
    "        if use == n:\n",
    "            print('WIN')\n",
    "            break\n",
    "        elif use < n:\n",
    "            print('too low')\n",
    "        elif use > n:\n",
    "            print('too high')\n",
    "    pass\n",
    "\n",
    "guess_number(23)"
   ]
  },
  {
   "attachments": {},
   "cell_type": "markdown",
   "metadata": {},
   "source": [
    "Chal13 - Every Other"
   ]
  },
  {
   "cell_type": "code",
   "execution_count": null,
   "metadata": {},
   "outputs": [],
   "source": [
    "def leetString(s):\n",
    "    s = list(s)\n",
    "    for x in range(len(s)):\n",
    "        if x % 2 == 0:\n",
    "            s[x] = s[x].upper()\n",
    "        else:\n",
    "            s[x] = s[x].lower()\n",
    "    s = \"\".join(s)\n",
    "    return s\n",
    "        \n",
    "    pass"
   ]
  },
  {
   "attachments": {},
   "cell_type": "markdown",
   "metadata": {},
   "source": [
    "Chal14 - Even Odds"
   ]
  },
  {
   "cell_type": "code",
   "execution_count": null,
   "metadata": {},
   "outputs": [],
   "source": [
    "def evensandodds(first, last):\n",
    "    pass \n",
    "    for x in list(range(first,last+1)):\n",
    "        if x % 2 == 0:\n",
    "            print(x)\n",
    "    for x in list(range(first,last+1)):\n",
    "        if x % 2 != 0:\n",
    "            print(x)"
   ]
  },
  {
   "attachments": {},
   "cell_type": "markdown",
   "metadata": {},
   "source": [
    "Chal15 - List Return Func"
   ]
  },
  {
   "cell_type": "code",
   "execution_count": null,
   "metadata": {},
   "outputs": [],
   "source": [
    "def user_io():\n",
    "    lt = []\n",
    "    while True:\n",
    "        use = input()\n",
    "        if use != \"\":\n",
    "            lt.append(use)\n",
    "        else:\n",
    "            return lt\n",
    "    '''\n",
    "    Returns a list of items read from the user until the user enters an empty string.\n",
    "\n",
    "    Args:\n",
    "        None\n",
    "    Returns:\n",
    "        list: a list of strings\n",
    "    '''    \n",
    "    \n",
    "    pass"
   ]
  },
  {
   "attachments": {},
   "cell_type": "markdown",
   "metadata": {},
   "source": [
    "Read File/Print Amount"
   ]
  },
  {
   "cell_type": "code",
   "execution_count": null,
   "metadata": {},
   "outputs": [],
   "source": [
    "with open(\"travel_plans.txt\", \"r\") as file1:\n",
    "    asdf = file1.read()\n",
    "num = len(asdf)"
   ]
  },
  {
   "cell_type": "code",
   "execution_count": null,
   "metadata": {},
   "outputs": [],
   "source": [
    "with open(\"emotion_words.txt\", \"r\") as file1:\n",
    "    asdf = file1.read()\n",
    "num_words = len(asdf.split())"
   ]
  },
  {
   "cell_type": "code",
   "execution_count": null,
   "metadata": {},
   "outputs": [],
   "source": [
    "with open(\"school_prompt.txt\", \"r\") as file1:\n",
    "    asdf = file1.readlines()\n",
    "num_lines = len(asdf)"
   ]
  },
  {
   "attachments": {},
   "cell_type": "markdown",
   "metadata": {},
   "source": [
    "Read Specific Amount"
   ]
  },
  {
   "cell_type": "code",
   "execution_count": null,
   "metadata": {},
   "outputs": [],
   "source": [
    "with open(\"school_prompt.txt\", \"r\") as file1:\n",
    "    beginning_chars = file1.read(30)"
   ]
  },
  {
   "cell_type": "code",
   "execution_count": null,
   "metadata": {},
   "outputs": [],
   "source": [
    "with open(\"travel_plans.txt\") as file1:\n",
    "    first_chars = file1.read(33)"
   ]
  },
  {
   "attachments": {},
   "cell_type": "markdown",
   "metadata": {},
   "source": [
    "Every Third Word"
   ]
  },
  {
   "cell_type": "code",
   "execution_count": null,
   "metadata": {},
   "outputs": [],
   "source": [
    "with open(\"school_prompt.txt\", \"r\") as file1:\n",
    "    lines = file1.readlines()\n",
    "    three = []\n",
    "    \n",
    "    for x in lines:\n",
    "        three.append(x.split()[2])"
   ]
  },
  {
   "cell_type": "code",
   "execution_count": null,
   "metadata": {},
   "outputs": [],
   "source": [
    "with open(\"emotion_words.txt\") as file1:\n",
    "    word = file1.readlines()\n",
    "    emotions = []\n",
    "    \n",
    "    for x in word:\n",
    "        emotions.append(x.split()[0])"
   ]
  },
  {
   "attachments": {},
   "cell_type": "markdown",
   "metadata": {},
   "source": [
    "P Words"
   ]
  },
  {
   "cell_type": "code",
   "execution_count": null,
   "metadata": {},
   "outputs": [],
   "source": [
    "with open(\"school_prompt.txt\") as file1:\n",
    "    words = file1.read()\n",
    "    p_words = []\n",
    "    words = words.split()\n",
    "    for x in words:\n",
    "        if 'p' in x:\n",
    "            p_words.append(x)\n"
   ]
  },
  {
   "cell_type": "code",
   "execution_count": null,
   "metadata": {},
   "outputs": [],
   "source": []
  }
 ],
 "metadata": {
  "language_info": {
   "name": "python"
  },
  "orig_nbformat": 4
 },
 "nbformat": 4,
 "nbformat_minor": 2
}
